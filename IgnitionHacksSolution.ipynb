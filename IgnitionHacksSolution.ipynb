{
  "nbformat": 4,
  "nbformat_minor": 0,
  "metadata": {
    "colab": {
      "name": "IgnitionHacksSolution.ipynb",
      "provenance": [],
      "collapsed_sections": [],
      "toc_visible": true,
      "machine_shape": "hm"
    },
    "kernelspec": {
      "name": "python3",
      "display_name": "Python 3"
    },
    "accelerator": "TPU"
  },
  "cells": [
    {
      "cell_type": "markdown",
      "metadata": {
        "id": "zgtAjpxCBIjf",
        "colab_type": "text"
      },
      "source": [
        "# **Imports/External Libraries**\n",
        "The library that I decided to use for the natural language processing is fast.ai by Jeremy Howard because it simplifies training fast and accurate neural nets using modern best practices.\n",
        "\n",
        "## About fastai\n",
        "fastai is a deep learning library which provides practitioners with high-level components that can quickly and easily provide state-of-the-art results in standard deep learning domains, and provides researchers with low-level components that can be mixed and matched to build new approaches. It aims to do both things without substantial compromises in ease of use, flexibility, or performance. This is possible thanks to a carefully layered architecture, which expresses common underlying patterns of many deep learning and data processing techniques in terms of decoupled abstractions. These abstractions can be expressed concisely and clearly by leveraging the dynamism of the underlying Python language and the flexibility of the PyTorch library. fastai includes:\n",
        "\n",
        "- A new type dispatch system for Python along with a semantic type hierarchy for tensors\n",
        "- A GPU-optimized computer vision library which can be extended in pure Python\n",
        "An optimizer which refactors out the common functionality of modern optimizers into two basic pieces, allowing optimization algorithms to be implemented in 4–5 lines of code\n",
        "- A novel 2-way callback system that can access any part of the data, model, or optimizer and change it at any point during training\n",
        "- A new data block API\n",
        "\n",
        "The fastai library is organized around two main design goals: to be approachable and rapidly productive, while also being deeply hackable and configurable. It is built on top of a hierarchy of lower-level APIs which provide composable building blocks. This way, a user wanting to rewrite part of the high-level API or add particular behavior to suit their needs does not have to learn how to use the lowest level."
      ]
    },
    {
      "cell_type": "code",
      "metadata": {
        "id": "JuFsfSE8eQvM",
        "colab_type": "code",
        "colab": {
          "base_uri": "https://localhost:8080/",
          "height": 105
        },
        "outputId": "1eab9fd7-e0d5-4065-82b3-78f316420696"
      },
      "source": [
        "# If any of imports do not work, uncomment the following:\n",
        "# ! pip install fastai2\n",
        "# ! pip install utils\n",
        "\n",
        "from fastai.text import *\n",
        "from utils import *"
      ],
      "execution_count": 1,
      "outputs": [
        {
          "output_type": "stream",
          "text": [
            "Collecting utils\n",
            "  Downloading https://files.pythonhosted.org/packages/55/e6/c2d2b2703e7debc8b501caae0e6f7ead148fd0faa3c8131292a599930029/utils-1.0.1-py2.py3-none-any.whl\n",
            "Installing collected packages: utils\n",
            "Successfully installed utils-1.0.1\n"
          ],
          "name": "stdout"
        }
      ]
    },
    {
      "cell_type": "markdown",
      "metadata": {
        "id": "RW5U_WC2ebjs",
        "colab_type": "text"
      },
      "source": [
        "## Read in Information about Datasets with Pandas\n",
        "Many popular data science Python libraries are dependencies of fast.ai such as Pytorch, Pandas, Numpy, and more. This is the reason why pandas is not explicitly imported.\n",
        "\n"
      ]
    },
    {
      "cell_type": "code",
      "metadata": {
        "id": "kM4obi5FH_N1",
        "colab_type": "code",
        "colab": {}
      },
      "source": [
        "path = \"/content\"\n",
        "main = pd.read_csv(path + '/training_data.csv')\n"
      ],
      "execution_count": 3,
      "outputs": []
    },
    {
      "cell_type": "markdown",
      "metadata": {
        "id": "S8P8k9puDGiM",
        "colab_type": "text"
      },
      "source": [
        "# **Data Preprocessing**\n",
        "Only 20% of the data was trained on because of several factors such as the amount of time it would take and the cost associated with running it in an online environment. The data was read with Pandas and turned into a Pandas Dataframe for training. The training/testing dataframes were split from the original training_data.csv data in a 90%/10% split respectively. I decided to use this figure for splitting the data because of how large the dataset was and I wanted the model to train on more words to build up its vocabulary.\n"
      ]
    },
    {
      "cell_type": "code",
      "metadata": {
        "id": "MJfXnBPnecrI",
        "colab_type": "code",
        "colab": {
          "base_uri": "https://localhost:8080/",
          "height": 238
        },
        "outputId": "d071a0b9-5606-419a-ae8d-e406b4ab8b18"
      },
      "source": [
        "# Getting an idea of how large the training_data.csv dataset is\n",
        "print(main.shape)\n",
        "\n",
        "mat = []\n",
        "for i in range(20000):\n",
        "  tmp = []\n",
        "  tmp.append(main['Text'][i])\n",
        "  if main['Sentiment'][i] == 1:\n",
        "    tmp.append(\"1\")\n",
        "  else:\n",
        "    tmp.append(\"0\")\n",
        "  mat.append(tmp)\n",
        "\n",
        "train_mat = []\n",
        "for i in range(20001, 200000):\n",
        "  tmp = []\n",
        "  tmp.append(main['Text'][i])\n",
        "  if main['Sentiment'][i] == 1:\n",
        "    tmp.append(\"1\")\n",
        "  else:\n",
        "    tmp.append(\"0\")\n",
        "  train_mat.append(tmp)\n",
        "\n",
        "train = pd.DataFrame(train_mat, columns=['Text','Sentiment'])\n",
        "print(train.head())"
      ],
      "execution_count": 4,
      "outputs": [
        {
          "output_type": "stream",
          "text": [
            "(1000000, 4)\n",
            "                                                Text Sentiment\n",
            "0  I *heart* filling up @dennisschaub desk   1 it...         1\n",
            "1  #SocioMat - people create prettier, younger an...         1\n",
            "2                no way i dont want the tour to end          0\n",
            "3  @HemalRadia Hi Amazing Brother! Sending Limitl...         1\n",
            "4                   @flockmaster they are chocolate          1\n",
            "                                                Text Sentiment\n",
            "0       @XaviAceto Yay! I look forward to a review.          1\n",
            "1  playing with his new mac pro...and slightly di...         0\n",
            "2  Ugh @TreyDerbes now I have that song in my hea...         1\n",
            "3                                      Dyed my hair          1\n",
            "4  @d33pak well if you aredieting i shouldnt tell...         1\n"
          ],
          "name": "stdout"
        }
      ]
    },
    {
      "cell_type": "code",
      "metadata": {
        "id": "GRUUx5fHksTx",
        "colab_type": "code",
        "colab": {}
      },
      "source": [
        "valid = pd.read_csv(path + '/contestant_judgment.csv')\n"
      ],
      "execution_count": 31,
      "outputs": []
    },
    {
      "cell_type": "markdown",
      "metadata": {
        "id": "tVSFfoyKFkor",
        "colab_type": "text"
      },
      "source": [
        "## Data Tokenization/Formatting\n",
        "The previous train dataframe is now being formatted into a native fastai dataframe for machine learning. The train dataframe is split one again into an 80%/20% split to create a validation dataset, which is critical to prevent overfitting. \n",
        "\n",
        "```\n",
        "data_clas = (TextList.from_df(train, cols='Text', vocab=data.vocab)\n",
        "             .split_by_rand_pct(0.2)\n",
        "             .label_from_df(cols= 'Sentiment')\n",
        "             .add_test(valid_datalist)\n",
        "             .databunch(bs=64))          \n",
        "```\n",
        "The code above tokenizes the words in the sentence as well, which is why the \".show_batch()\" function spits out a bunch of gibberish. Some of the special tokens that are present in the output include the following:\n",
        "\n",
        "- UNK (xxunk) is for an unknown word (one that isn’t present in the current vocabulary)\n",
        "- BOS (xxbos) represents the beginning of a text in your dataset\n",
        "- FLD (xxfld) is used if you set mark_fields=True in your TokenizeProcessor 1 to separate the different fields of texts (if your texts are loaded from several columns in a dataframe)\n",
        "- TK_MAJ (xxmaj) is used to indicate the next word begins with a capital in the original text\n",
        "- TK_UP (xxup) is used to indicate the next word is written in all caps in the original text\n",
        "- TK_REP (xxrep) is used to indicate the next character is repeated n times in the original text (usage xxrep n {char})\n",
        "- TK_WREP (xxwrep) is used to indicate the next word is repeated n times in the original text (usage xxwrep n {word})\n",
        "\n"
      ]
    },
    {
      "cell_type": "code",
      "metadata": {
        "id": "fHr6sDyOwcpg",
        "colab_type": "code",
        "colab": {
          "base_uri": "https://localhost:8080/",
          "height": 34
        },
        "outputId": "79c5fa89-3c09-4eb5-91b5-b60d9b1486e4"
      },
      "source": [
        "data = (TextList.from_df(train, cols='Text')\n",
        "                .split_by_rand_pct(0.2)\n",
        "                .label_for_lm()  \n",
        "                .databunch(bs=256))\n",
        "type(data)"
      ],
      "execution_count": 5,
      "outputs": [
        {
          "output_type": "display_data",
          "data": {
            "text/html": [
              ""
            ],
            "text/plain": [
              "<IPython.core.display.HTML object>"
            ]
          },
          "metadata": {
            "tags": []
          }
        },
        {
          "output_type": "display_data",
          "data": {
            "text/html": [
              ""
            ],
            "text/plain": [
              "<IPython.core.display.HTML object>"
            ]
          },
          "metadata": {
            "tags": []
          }
        },
        {
          "output_type": "execute_result",
          "data": {
            "text/plain": [
              "fastai.text.data.TextLMDataBunch"
            ]
          },
          "metadata": {
            "tags": []
          },
          "execution_count": 5
        }
      ]
    },
    {
      "cell_type": "code",
      "metadata": {
        "id": "hxneoun9-j8-",
        "colab_type": "code",
        "colab": {
          "base_uri": "https://localhost:8080/",
          "height": 34
        },
        "outputId": "ecd0a920-1c38-4527-c02b-084fccb5223d"
      },
      "source": [
        "# If you are getting any CUDA Memory Allocation errors, this may clear up some space for you\n",
        "import torch\n",
        "gc.collect()"
      ],
      "execution_count": 6,
      "outputs": [
        {
          "output_type": "execute_result",
          "data": {
            "text/plain": [
              "0"
            ]
          },
          "metadata": {
            "tags": []
          },
          "execution_count": 6
        }
      ]
    },
    {
      "cell_type": "markdown",
      "metadata": {
        "id": "b_GM9Qj1HY6-",
        "colab_type": "text"
      },
      "source": [
        "# **Training**\n",
        "## About the Model\n",
        "The ML model that was chosen is called an ASGD Weight-Dropped LSTM (AWD-LSTM) which is a type of recurrent neural network that employs DropConnect for regularization, as well as NT-ASGD for optimization - non-monotonically triggered averaged SGD - which returns an average of last iterations of weights. Additional regularization techniques employed include variable length backpropagation sequences, variational dropout, embedding dropout, weight tying, independent embedding/hidden size, activation regularization and temporal activation regularization.\n",
        "\n",
        "### TLDR \n",
        "It basically is an upgraded Long short-term memory (LSTM) model. The problem with LSTM's is that their loop connections may result in overfitting after several iterations/epochs.\n",
        "\n"
      ]
    },
    {
      "cell_type": "markdown",
      "metadata": {
        "id": "50ZWm07jKJXG",
        "colab_type": "text"
      },
      "source": [
        "Even though the accuracy is utterly pathetic at this point, continue to read this notebook because it gets significantly better later on. This is a demonstration of testing the model for text generation. The sentiment analysis is below."
      ]
    },
    {
      "cell_type": "code",
      "metadata": {
        "id": "-a8NIk-Dxb5m",
        "colab_type": "code",
        "colab": {
          "base_uri": "https://localhost:8080/",
          "height": 408
        },
        "outputId": "9a1a2aba-3812-40fc-ef17-168a7cc0645f"
      },
      "source": [
        "learn = language_model_learner(data,AWD_LSTM, drop_mult=0.3)\n",
        "\n",
        "\n",
        "# Fit the model based on selected learning rate\n",
        "learn.fit_one_cycle(5, moms=(0.8,0.7))\n",
        "\n",
        "# Tune a little more\n",
        "learn.unfreeze()\n",
        "learn.fit_one_cycle(5, 1e-3, moms=(0.8,0.7))\n",
        "\n",
        "# Save the encoder for use in classification\n",
        "learn.save_encoder('fine_tuned_enc')"
      ],
      "execution_count": 7,
      "outputs": [
        {
          "output_type": "stream",
          "text": [
            "Downloading https://s3.amazonaws.com/fast-ai-modelzoo/wt103-fwd.tgz\n"
          ],
          "name": "stdout"
        },
        {
          "output_type": "display_data",
          "data": {
            "text/html": [
              ""
            ],
            "text/plain": [
              "<IPython.core.display.HTML object>"
            ]
          },
          "metadata": {
            "tags": []
          }
        },
        {
          "output_type": "display_data",
          "data": {
            "text/html": [
              "<table border=\"1\" class=\"dataframe\">\n",
              "  <thead>\n",
              "    <tr style=\"text-align: left;\">\n",
              "      <th>epoch</th>\n",
              "      <th>train_loss</th>\n",
              "      <th>valid_loss</th>\n",
              "      <th>accuracy</th>\n",
              "      <th>time</th>\n",
              "    </tr>\n",
              "  </thead>\n",
              "  <tbody>\n",
              "    <tr>\n",
              "      <td>0</td>\n",
              "      <td>5.317976</td>\n",
              "      <td>4.756107</td>\n",
              "      <td>0.192690</td>\n",
              "      <td>10:16</td>\n",
              "    </tr>\n",
              "    <tr>\n",
              "      <td>1</td>\n",
              "      <td>4.593024</td>\n",
              "      <td>4.389368</td>\n",
              "      <td>0.226028</td>\n",
              "      <td>10:04</td>\n",
              "    </tr>\n",
              "    <tr>\n",
              "      <td>2</td>\n",
              "      <td>4.400719</td>\n",
              "      <td>4.311342</td>\n",
              "      <td>0.232425</td>\n",
              "      <td>09:55</td>\n",
              "    </tr>\n",
              "    <tr>\n",
              "      <td>3</td>\n",
              "      <td>4.306482</td>\n",
              "      <td>4.284898</td>\n",
              "      <td>0.234936</td>\n",
              "      <td>09:54</td>\n",
              "    </tr>\n",
              "    <tr>\n",
              "      <td>4</td>\n",
              "      <td>4.267415</td>\n",
              "      <td>4.280719</td>\n",
              "      <td>0.235167</td>\n",
              "      <td>09:44</td>\n",
              "    </tr>\n",
              "  </tbody>\n",
              "</table>"
            ],
            "text/plain": [
              "<IPython.core.display.HTML object>"
            ]
          },
          "metadata": {
            "tags": []
          }
        },
        {
          "output_type": "display_data",
          "data": {
            "text/html": [
              "<table border=\"1\" class=\"dataframe\">\n",
              "  <thead>\n",
              "    <tr style=\"text-align: left;\">\n",
              "      <th>epoch</th>\n",
              "      <th>train_loss</th>\n",
              "      <th>valid_loss</th>\n",
              "      <th>accuracy</th>\n",
              "      <th>time</th>\n",
              "    </tr>\n",
              "  </thead>\n",
              "  <tbody>\n",
              "    <tr>\n",
              "      <td>0</td>\n",
              "      <td>4.140923</td>\n",
              "      <td>4.155505</td>\n",
              "      <td>0.254215</td>\n",
              "      <td>12:14</td>\n",
              "    </tr>\n",
              "    <tr>\n",
              "      <td>1</td>\n",
              "      <td>4.037591</td>\n",
              "      <td>4.078052</td>\n",
              "      <td>0.263618</td>\n",
              "      <td>12:13</td>\n",
              "    </tr>\n",
              "    <tr>\n",
              "      <td>2</td>\n",
              "      <td>3.919131</td>\n",
              "      <td>4.046892</td>\n",
              "      <td>0.267052</td>\n",
              "      <td>12:05</td>\n",
              "    </tr>\n",
              "    <tr>\n",
              "      <td>3</td>\n",
              "      <td>3.803372</td>\n",
              "      <td>4.045217</td>\n",
              "      <td>0.267992</td>\n",
              "      <td>12:18</td>\n",
              "    </tr>\n",
              "    <tr>\n",
              "      <td>4</td>\n",
              "      <td>3.733804</td>\n",
              "      <td>4.052098</td>\n",
              "      <td>0.267892</td>\n",
              "      <td>12:10</td>\n",
              "    </tr>\n",
              "  </tbody>\n",
              "</table>"
            ],
            "text/plain": [
              "<IPython.core.display.HTML object>"
            ]
          },
          "metadata": {
            "tags": []
          }
        }
      ]
    },
    {
      "cell_type": "markdown",
      "metadata": {
        "id": "mlFn55B0LAd_",
        "colab_type": "text"
      },
      "source": [
        "## Sentiment Analysis\n",
        "This is very similar to the text generation above; however, we provide the model the 'Sentiment' column in the training dataset. Below is the key for the tokenization again:\n",
        "\n",
        "- UNK (xxunk) is for an unknown word (one that isn’t present in the current vocabulary)\n",
        "- BOS (xxbos) represents the beginning of a text in your dataset\n",
        "- FLD (xxfld) is used if you set mark_fields=True in your TokenizeProcessor 1 to separate the different fields of texts (if your texts are loaded from several columns in a dataframe)\n",
        "- TK_MAJ (xxmaj) is used to indicate the next word begins with a capital in the original text\n",
        "- TK_UP (xxup) is used to indicate the next word is written in all caps in the original text\n",
        "- TK_REP (xxrep) is used to indicate the next character is repeated n times in the original text (usage xxrep n {char})\n",
        "- TK_WREP (xxwrep) is used to indicate the next word is repeated n times in the original text (usage xxwrep n {word})"
      ]
    },
    {
      "cell_type": "code",
      "metadata": {
        "id": "2Q0R9bNo0H2S",
        "colab_type": "code",
        "colab": {
          "base_uri": "https://localhost:8080/",
          "height": 37
        },
        "outputId": "5305e504-3a05-4048-8330-867dae15ee77"
      },
      "source": [
        "valid_datalist = TextList.from_df(valid, cols='Text', vocab=data.vocab)\n",
        "data_clas = (TextList.from_df(train, cols='Text', vocab=data.vocab)\n",
        "             .split_by_rand_pct(0.2)\n",
        "             .label_from_df(cols= 'Sentiment')\n",
        "             .add_test(valid_datalist)\n",
        "             .databunch(bs=256))\n",
        "\n",
        "data_clas.show_batch()"
      ],
      "execution_count": null,
      "outputs": [
        {
          "output_type": "display_data",
          "data": {
            "text/html": [
              ""
            ],
            "text/plain": [
              "<IPython.core.display.HTML object>"
            ]
          },
          "metadata": {
            "tags": []
          }
        },
        {
          "output_type": "display_data",
          "data": {
            "text/html": [
              ""
            ],
            "text/plain": [
              "<IPython.core.display.HTML object>"
            ]
          },
          "metadata": {
            "tags": []
          }
        },
        {
          "output_type": "display_data",
          "data": {
            "text/html": [
              "\n",
              "    <div>\n",
              "        <style>\n",
              "            /* Turns off some styling */\n",
              "            progress {\n",
              "                /* gets rid of default border in Firefox and Opera. */\n",
              "                border: none;\n",
              "                /* Needs to be in here for Safari polyfill so background images work as expected. */\n",
              "                background-size: auto;\n",
              "            }\n",
              "            .progress-bar-interrupted, .progress-bar-interrupted::-webkit-progress-bar {\n",
              "                background: #F44336;\n",
              "            }\n",
              "        </style>\n",
              "      <progress value='12' class='' max='60' style='width:300px; height:20px; vertical-align: middle;'></progress>\n",
              "      20.00% [12/60 00:29<01:56]\n",
              "    </div>\n",
              "    "
            ],
            "text/plain": [
              "<IPython.core.display.HTML object>"
            ]
          },
          "metadata": {
            "tags": []
          }
        }
      ]
    },
    {
      "cell_type": "markdown",
      "metadata": {
        "id": "0eQnzp0ILorP",
        "colab_type": "text"
      },
      "source": [
        "### Training\n",
        "The model is using the AWD-LSTM model once again. Even though the previous model was trained for text generation, the preset weights can help make this model more accurate because it has seen the vocabulary before through the previous model's training."
      ]
    },
    {
      "cell_type": "code",
      "metadata": {
        "id": "psf03wL7luiV",
        "colab_type": "code",
        "colab": {}
      },
      "source": [
        "learn_classifier = text_classifier_learner(data_clas, AWD_LSTM, drop_mult=0.5)\n",
        "\n",
        "# load the encoder saved  \n",
        "learn_classifier.load_encoder('finished_model')"
      ],
      "execution_count": null,
      "outputs": []
    },
    {
      "cell_type": "code",
      "metadata": {
        "id": "s-AZRYwq675b",
        "colab_type": "code",
        "colab": {
          "base_uri": "https://localhost:8080/",
          "height": 374
        },
        "outputId": "aeda44f3-5ebf-4075-fd0f-7f007e2b790a"
      },
      "source": [
        "learn_classifier = text_classifier_learner(data_clas, AWD_LSTM, drop_mult=0.5)\n",
        "\n",
        "# load the encoder saved  \n",
        "learn_classifier.load_encoder('fine_tuned_enc')\n",
        "\n",
        "learn_classifier.freeze()\n",
        "\n",
        "# select the appropriate learning rate\n",
        "learn_classifier.lr_find()\n",
        "\n",
        "# typically a good learning rate is the point where the slope is steepest\n",
        "learn_classifier.recorder.plot()\n",
        "\n"
      ],
      "execution_count": 11,
      "outputs": [
        {
          "output_type": "display_data",
          "data": {
            "text/html": [
              "\n",
              "    <div>\n",
              "        <style>\n",
              "            /* Turns off some styling */\n",
              "            progress {\n",
              "                /* gets rid of default border in Firefox and Opera. */\n",
              "                border: none;\n",
              "                /* Needs to be in here for Safari polyfill so background images work as expected. */\n",
              "                background-size: auto;\n",
              "            }\n",
              "            .progress-bar-interrupted, .progress-bar-interrupted::-webkit-progress-bar {\n",
              "                background: #F44336;\n",
              "            }\n",
              "        </style>\n",
              "      <progress value='0' class='' max='1' style='width:300px; height:20px; vertical-align: middle;'></progress>\n",
              "      0.00% [0/1 00:00<00:00]\n",
              "    </div>\n",
              "    \n",
              "<table border=\"1\" class=\"dataframe\">\n",
              "  <thead>\n",
              "    <tr style=\"text-align: left;\">\n",
              "      <th>epoch</th>\n",
              "      <th>train_loss</th>\n",
              "      <th>valid_loss</th>\n",
              "      <th>accuracy</th>\n",
              "      <th>time</th>\n",
              "    </tr>\n",
              "  </thead>\n",
              "  <tbody>\n",
              "  </tbody>\n",
              "</table><p>\n",
              "\n",
              "    <div>\n",
              "        <style>\n",
              "            /* Turns off some styling */\n",
              "            progress {\n",
              "                /* gets rid of default border in Firefox and Opera. */\n",
              "                border: none;\n",
              "                /* Needs to be in here for Safari polyfill so background images work as expected. */\n",
              "                background-size: auto;\n",
              "            }\n",
              "            .progress-bar-interrupted, .progress-bar-interrupted::-webkit-progress-bar {\n",
              "                background: #F44336;\n",
              "            }\n",
              "        </style>\n",
              "      <progress value='94' class='' max='2250' style='width:300px; height:20px; vertical-align: middle;'></progress>\n",
              "      4.18% [94/2250 00:28<10:54 1.9129]\n",
              "    </div>\n",
              "    "
            ],
            "text/plain": [
              "<IPython.core.display.HTML object>"
            ]
          },
          "metadata": {
            "tags": []
          }
        },
        {
          "output_type": "stream",
          "text": [
            "LR Finder is complete, type {learner_name}.recorder.plot() to see the graph.\n"
          ],
          "name": "stdout"
        },
        {
          "output_type": "display_data",
          "data": {
            "image/png": "[encoded data removed]",
            "text/plain": [
              "<Figure size 432x288 with 1 Axes>"
            ]
          },
          "metadata": {
            "tags": [],
            "needs_background": "light"
          }
        }
      ]
    },
    {
      "cell_type": "code",
      "metadata": {
        "id": "PIs67D94rCLZ",
        "colab_type": "code",
        "colab": {
          "base_uri": "https://localhost:8080/",
          "height": 918
        },
        "outputId": "6c619ca0-5777-45ba-a629-93c4bae2d1b7"
      },
      "source": [
        "# Fit the model based on selected learning rate\n",
        "learn_classifier.fit_one_cycle(5, 1e-1, moms=(0.8,0.7))\n",
        "\n",
        "# Tune a little more\n",
        "learn_classifier.freeze_to(-2)\n",
        "learn_classifier.fit_one_cycle(5, slice(1e-2/(2.6**4),1e-2), moms=(0.8,0.7))\n",
        "\n",
        "# Tune a little more\n",
        "learn_classifier.freeze_to(-3)\n",
        "learn_classifier.fit_one_cycle(5, slice(5e-3/(2.6**4),5e-3), moms=(0.8,0.7))\n",
        "\n",
        "# Present results\n",
        "learn_classifier.show_results()"
      ],
      "execution_count": 12,
      "outputs": [
        {
          "output_type": "display_data",
          "data": {
            "text/html": [
              "<table border=\"1\" class=\"dataframe\">\n",
              "  <thead>\n",
              "    <tr style=\"text-align: left;\">\n",
              "      <th>epoch</th>\n",
              "      <th>train_loss</th>\n",
              "      <th>valid_loss</th>\n",
              "      <th>accuracy</th>\n",
              "      <th>time</th>\n",
              "    </tr>\n",
              "  </thead>\n",
              "  <tbody>\n",
              "    <tr>\n",
              "      <td>0</td>\n",
              "      <td>0.568960</td>\n",
              "      <td>0.491647</td>\n",
              "      <td>0.762660</td>\n",
              "      <td>10:45</td>\n",
              "    </tr>\n",
              "    <tr>\n",
              "      <td>1</td>\n",
              "      <td>0.558962</td>\n",
              "      <td>0.493357</td>\n",
              "      <td>0.763021</td>\n",
              "      <td>10:48</td>\n",
              "    </tr>\n",
              "    <tr>\n",
              "      <td>2</td>\n",
              "      <td>0.545047</td>\n",
              "      <td>0.495951</td>\n",
              "      <td>0.771160</td>\n",
              "      <td>10:52</td>\n",
              "    </tr>\n",
              "    <tr>\n",
              "      <td>3</td>\n",
              "      <td>0.524924</td>\n",
              "      <td>0.472400</td>\n",
              "      <td>0.773688</td>\n",
              "      <td>10:56</td>\n",
              "    </tr>\n",
              "    <tr>\n",
              "      <td>4</td>\n",
              "      <td>0.521123</td>\n",
              "      <td>0.466174</td>\n",
              "      <td>0.776299</td>\n",
              "      <td>10:56</td>\n",
              "    </tr>\n",
              "  </tbody>\n",
              "</table>"
            ],
            "text/plain": [
              "<IPython.core.display.HTML object>"
            ]
          },
          "metadata": {
            "tags": []
          }
        },
        {
          "output_type": "display_data",
          "data": {
            "text/html": [
              "<table border=\"1\" class=\"dataframe\">\n",
              "  <thead>\n",
              "    <tr style=\"text-align: left;\">\n",
              "      <th>epoch</th>\n",
              "      <th>train_loss</th>\n",
              "      <th>valid_loss</th>\n",
              "      <th>accuracy</th>\n",
              "      <th>time</th>\n",
              "    </tr>\n",
              "  </thead>\n",
              "  <tbody>\n",
              "    <tr>\n",
              "      <td>0</td>\n",
              "      <td>0.478128</td>\n",
              "      <td>0.426319</td>\n",
              "      <td>0.803383</td>\n",
              "      <td>12:40</td>\n",
              "    </tr>\n",
              "    <tr>\n",
              "      <td>1</td>\n",
              "      <td>0.426163</td>\n",
              "      <td>0.399582</td>\n",
              "      <td>0.818051</td>\n",
              "      <td>12:38</td>\n",
              "    </tr>\n",
              "    <tr>\n",
              "      <td>2</td>\n",
              "      <td>0.417013</td>\n",
              "      <td>0.390040</td>\n",
              "      <td>0.821940</td>\n",
              "      <td>12:36</td>\n",
              "    </tr>\n",
              "    <tr>\n",
              "      <td>3</td>\n",
              "      <td>0.387147</td>\n",
              "      <td>0.379499</td>\n",
              "      <td>0.829106</td>\n",
              "      <td>12:38</td>\n",
              "    </tr>\n",
              "    <tr>\n",
              "      <td>4</td>\n",
              "      <td>0.383358</td>\n",
              "      <td>0.393323</td>\n",
              "      <td>0.830134</td>\n",
              "      <td>12:40</td>\n",
              "    </tr>\n",
              "  </tbody>\n",
              "</table>"
            ],
            "text/plain": [
              "<IPython.core.display.HTML object>"
            ]
          },
          "metadata": {
            "tags": []
          }
        },
        {
          "output_type": "display_data",
          "data": {
            "text/html": [
              "<table border=\"1\" class=\"dataframe\">\n",
              "  <thead>\n",
              "    <tr style=\"text-align: left;\">\n",
              "      <th>epoch</th>\n",
              "      <th>train_loss</th>\n",
              "      <th>valid_loss</th>\n",
              "      <th>accuracy</th>\n",
              "      <th>time</th>\n",
              "    </tr>\n",
              "  </thead>\n",
              "  <tbody>\n",
              "    <tr>\n",
              "      <td>0</td>\n",
              "      <td>0.373281</td>\n",
              "      <td>0.383610</td>\n",
              "      <td>0.829134</td>\n",
              "      <td>18:33</td>\n",
              "    </tr>\n",
              "    <tr>\n",
              "      <td>1</td>\n",
              "      <td>0.377214</td>\n",
              "      <td>0.380011</td>\n",
              "      <td>0.829718</td>\n",
              "      <td>18:33</td>\n",
              "    </tr>\n",
              "    <tr>\n",
              "      <td>2</td>\n",
              "      <td>0.361378</td>\n",
              "      <td>0.372793</td>\n",
              "      <td>0.835940</td>\n",
              "      <td>18:40</td>\n",
              "    </tr>\n",
              "    <tr>\n",
              "      <td>3</td>\n",
              "      <td>0.278170</td>\n",
              "      <td>0.391481</td>\n",
              "      <td>0.833995</td>\n",
              "      <td>18:42</td>\n",
              "    </tr>\n",
              "    <tr>\n",
              "      <td>4</td>\n",
              "      <td>0.245298</td>\n",
              "      <td>0.414763</td>\n",
              "      <td>0.833495</td>\n",
              "      <td>18:38</td>\n",
              "    </tr>\n",
              "  </tbody>\n",
              "</table>"
            ],
            "text/plain": [
              "<IPython.core.display.HTML object>"
            ]
          },
          "metadata": {
            "tags": []
          }
        },
        {
          "output_type": "display_data",
          "data": {
            "text/html": [
              "<table border=\"1\" class=\"dataframe\">\n",
              "  <thead>\n",
              "    <tr style=\"text-align: right;\">\n",
              "      <th>text</th>\n",
              "      <th>target</th>\n",
              "      <th>prediction</th>\n",
              "    </tr>\n",
              "  </thead>\n",
              "  <tbody>\n",
              "    <tr>\n",
              "      <td>xxbos xxunk xxmaj google xxmaj xxunk � ? � � ? � xxunk � ? � � ? � � ? � � ? xxunk � ? � � ? � � ? � xxunk � ? � xxunk � ? � xxunk � ? � � ? � � ? � � ? � xxunk � ? � � ? � � ? � xxunk � ? � xxunk</td>\n",
              "      <td>0</td>\n",
              "      <td>1</td>\n",
              "    </tr>\n",
              "    <tr>\n",
              "      <td>xxbos xxmaj ice xxmaj cream xxmaj man xxmaj jus xxmaj came xxmaj by , , . i xxmaj ain ' xxmaj greedy xxmaj by xxmaj gettin ' xxmaj two * * ( xxmaj three ) * * xxmaj ice xxmaj creams xxmaj is xxmaj it , , . ? ? : \\ xxmaj lol , . xxmaj they xxmaj jus xxmaj too xxmaj guhd , . ! ! !</td>\n",
              "      <td>1</td>\n",
              "      <td>1</td>\n",
              "    </tr>\n",
              "    <tr>\n",
              "      <td>xxbos xxunk xxunk � ? � � ? � xxunk � ? � xxunk � ? � xxunk � ? � � ? � � ? � xxunk � ? � xxunk � ? � � ? � � ? � � ? � � ? � ? � � ? � � ? � � ? � � ? � � ? � � ? �</td>\n",
              "      <td>1</td>\n",
              "      <td>1</td>\n",
              "    </tr>\n",
              "    <tr>\n",
              "      <td>xxbos xxunk xxup that xxup was xxup not xxup right ! xxup he xxup xxunk xxup know xxup that xxup was xxup going xxup to xxup happen xxup to xxup him ! ! xxup you xxup can xxup tell xxup how xxup he xxup just xxup left xxup so xxup fast xxup that xxup was xxup wrong xxup yo ! !</td>\n",
              "      <td>0</td>\n",
              "      <td>0</td>\n",
              "    </tr>\n",
              "    <tr>\n",
              "      <td>xxbos i m xxmaj so xxmaj bored ! xxmaj its xxmaj my bday xxmaj and i xxmaj have xxmaj nothin xxmaj to xxunk xxmaj off xxmaj and xxmaj every1 xxmaj else xxmaj is n't xxmaj gym xxmaj xxunk xxmaj on xxmaj my xxmaj bday xxmaj ha xxmaj this xxmaj day xxmaj could nt xxmaj get xxmaj any xxmaj worse ha</td>\n",
              "      <td>0</td>\n",
              "      <td>1</td>\n",
              "    </tr>\n",
              "  </tbody>\n",
              "</table>"
            ],
            "text/plain": [
              "<IPython.core.display.HTML object>"
            ]
          },
          "metadata": {
            "tags": []
          }
        }
      ]
    },
    {
      "cell_type": "code",
      "metadata": {
        "id": "UEAz5aZ77Uee",
        "colab_type": "code",
        "colab": {}
      },
      "source": [
        "\n",
        "preds, target = learn_classifier.get_preds(DatasetType.Test, ordered=True)\n",
        "labels = np.argmax(preds, axis =1)\n",
        "\n",
        "learn_classifier.save_encoder('finished_model')"
      ],
      "execution_count": null,
      "outputs": []
    },
    {
      "cell_type": "code",
      "metadata": {
        "id": "Y5DdK8WjkQiT",
        "colab_type": "code",
        "colab": {}
      },
      "source": [
        "valid_datalist = TextList.from_df(valid, cols='Text', vocab=data.vocab)\n",
        "data_clas = (TextList.from_df(train, cols='Text', vocab=data.vocab)\n",
        "             .split_by_rand_pct(0.2)\n",
        "             .label_from_df(cols= 'Sentiment')\n",
        "             .add_test(valid_datalist)\n",
        "             .databunch(bs=64))\n",
        "\n",
        "data_clas.show_batch()"
      ],
      "execution_count": null,
      "outputs": []
    },
    {
      "cell_type": "code",
      "metadata": {
        "id": "gXitRuDAjYc7",
        "colab_type": "code",
        "colab": {
          "base_uri": "https://localhost:8080/",
          "height": 136
        },
        "outputId": "93fe6899-37c6-4149-e397-b6b4da9601c2"
      },
      "source": [
        "preds"
      ],
      "execution_count": 30,
      "outputs": [
        {
          "output_type": "execute_result",
          "data": {
            "text/plain": [
              "tensor([[8.5877e-01, 1.4123e-01],\n",
              "        [9.6818e-03, 9.9032e-01],\n",
              "        [9.9999e-01, 8.0661e-06],\n",
              "        ...,\n",
              "        [6.1436e-02, 9.3856e-01],\n",
              "        [7.7085e-01, 2.2915e-01],\n",
              "        [9.9430e-01, 5.7024e-03]])"
            ]
          },
          "metadata": {
            "tags": []
          },
          "execution_count": 30
        }
      ]
    },
    {
      "cell_type": "markdown",
      "metadata": {
        "id": "mCEgzBzDM1Iu",
        "colab_type": "text"
      },
      "source": [
        "# Creating Submission\n"
      ]
    },
    {
      "cell_type": "markdown",
      "metadata": {
        "id": "AQkSlaShM5Xf",
        "colab_type": "text"
      },
      "source": [
        "This is the section where we read in the contestant_judgement.csv file to make predictions on the data.\n"
      ]
    },
    {
      "cell_type": "code",
      "metadata": {
        "id": "XgDWjMzbi0cr",
        "colab_type": "code",
        "colab": {}
      },
      "source": [
        "# Basic function to take in a string and return the output\n",
        "# 0 -> This has a negative sentiment\n",
        "# 1 -> This has a positive sentiment\n",
        "def getPrediction(string):\n",
        "  pred = learn_classifier.predict(string)\n",
        "  if pred[2][0] > pred[2][1]:\n",
        "    return 0\n",
        "  else:\n",
        "    return 1\n",
        "  "
      ],
      "execution_count": 15,
      "outputs": []
    },
    {
      "cell_type": "markdown",
      "metadata": {
        "id": "cB8dgNd9NeJM",
        "colab_type": "text"
      },
      "source": [
        "### Tests\n",
        "You can run the following pair of cells to see the output of the model.\n"
      ]
    },
    {
      "cell_type": "code",
      "metadata": {
        "id": "z-N9Ljnw_xaZ",
        "colab_type": "code",
        "colab": {
          "base_uri": "https://localhost:8080/",
          "height": 34
        },
        "outputId": "5704de90-eb92-4993-fe7a-afa7a3b355e3"
      },
      "source": [
        "if getPrediction(\"I'm very happy\") == 1:\n",
        "  print(\"This has a positive sentiment\")\n",
        "else:\n",
        "  print(\"This has a negative sentiment\")"
      ],
      "execution_count": 16,
      "outputs": [
        {
          "output_type": "stream",
          "text": [
            "This has a positive sentiment\n"
          ],
          "name": "stdout"
        }
      ]
    },
    {
      "cell_type": "code",
      "metadata": {
        "id": "wpiJK--P_y5f",
        "colab_type": "code",
        "colab": {
          "base_uri": "https://localhost:8080/",
          "height": 34
        },
        "outputId": "4203a9ef-260d-41fd-d02c-b3251cc1b187"
      },
      "source": [
        "if getPrediction(\"I'm very sad\") == 1:\n",
        "  print(\"This has a positive sentiment\")\n",
        "else:\n",
        "  print(\"This has a negative sentiment\")"
      ],
      "execution_count": 17,
      "outputs": [
        {
          "output_type": "stream",
          "text": [
            "This has a negative sentiment\n"
          ],
          "name": "stdout"
        }
      ]
    },
    {
      "cell_type": "markdown",
      "metadata": {
        "id": "x1f0o7mdOCEW",
        "colab_type": "text"
      },
      "source": [
        "## Writing to CSV"
      ]
    },
    {
      "cell_type": "code",
      "metadata": {
        "id": "5Zc4J9Gniqdr",
        "colab_type": "code",
        "colab": {}
      },
      "source": [
        "# Python library to read/write CSV's \n",
        "import csv"
      ],
      "execution_count": 18,
      "outputs": []
    },
    {
      "cell_type": "code",
      "metadata": {
        "id": "t10LbCRX7Q1a",
        "colab_type": "code",
        "colab": {}
      },
      "source": [
        "# firstLine = True\n",
        "# itr = 1\n",
        "# with open(\"contestant_judgment.csv\", \"r\") as csv_file:\n",
        "#   csv_reader = csv.reader(csv_file)\n",
        "#   with open('submission.csv', 'w') as new_file:\n",
        "#     csv_writer = csv.writer(new_file)\n",
        "#     for line in csv_reader:\n",
        "#       print(\"{}/600000\".format(itr))\n",
        "#       if firstLine:\n",
        "#         csv_writer.writerow(line + ['Sentiment'])  \n",
        "#         firstLine = False\n",
        "#       else:\n",
        "#         pred = getPrediction(line[2])\n",
        "#         csv_writer.writerow(line + [pred])\n",
        "#       itr += 1\n",
        "      \n",
        "df = pd.read_csv(path + \"/contestant_judgment.csv\")\n",
        "mat = pd.DataFrame(df, columns=['ID','User','Text','Sentiment'])\n",
        "for i in range(600000):\n",
        "  mat['Sentiment'][i] = getPrediction(mat['Text'][i])\n",
        "mat.to_csv(\"submission.csv\")\n"
      ],
      "execution_count": null,
      "outputs": []
    }
  ]
}
